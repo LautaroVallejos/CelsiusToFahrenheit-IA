{
  "cells": [
    {
      "cell_type": "code",
      "execution_count": null,
      "metadata": {
        "id": "Dn2qCDAFjQ8h"
      },
      "outputs": [],
      "source": [
        "#Recursos\n",
        "import tensorflow as tf\n",
        "import numpy as np"
      ]
    },
    {
      "cell_type": "code",
      "execution_count": 25,
      "metadata": {
        "id": "Cds3-LZYjY7M"
      },
      "outputs": [],
      "source": [
        "#Datos De Entrenamieto\n",
        "celsius = np.array([-40, -10, 0, 8, 15, 22, 38], dtype=float)\n",
        "farenheit = np.array([-40, 14, 32, 46, 59, 72, 100], dtype=float)"
      ]
    },
    {
      "cell_type": "code",
      "execution_count": 26,
      "metadata": {
        "id": "rw9_JioFj6Iz"
      },
      "outputs": [],
      "source": [
        "#Capas\n",
        "Hidden = tf.keras.layers.Dense(units=3, input_shape=[1])\n",
        "hidden1 = tf.keras.layers.Dense(units=1)\n",
        "salida = tf.keras.layers.Dense(units=1)\n",
        "modelo = tf.keras.Sequential([Hidden, hidden1, salida])"
      ]
    },
    {
      "cell_type": "code",
      "execution_count": 27,
      "metadata": {
        "id": "qhEOcSADkYZD"
      },
      "outputs": [],
      "source": [
        "#Compilado y Margen de Ajuste\n",
        "modelo.compile(\n",
        "    optimizer=tf.keras.optimizers.Adam(0.1),\n",
        "    loss='mean_squared_error'\n",
        ")"
      ]
    },
    {
      "cell_type": "code",
      "execution_count": 28,
      "metadata": {
        "colab": {
          "base_uri": "https://localhost:8080/"
        },
        "id": "uLItvMrikqg5",
        "outputId": "7a2434fa-d215-49a7-dbf5-c2d45fec3742"
      },
      "outputs": [
        {
          "name": "stdout",
          "output_type": "stream",
          "text": [
            "Comenzando entrenamiento...\n",
            "Modelo entrenado\n"
          ]
        }
      ],
      "source": [
        "#Entrenamieto de la IA\n",
        "print(\"Comenzando entrenamiento...\")\n",
        "historial = modelo.fit(celsius, farenheit, epochs=200, verbose=False)\n",
        "print(\"Modelo entrenado\")"
      ]
    },
    {
      "cell_type": "code",
      "execution_count": 29,
      "metadata": {
        "colab": {
          "base_uri": "https://localhost:8080/",
          "height": 296
        },
        "id": "EV73ln49lxmC",
        "outputId": "615a0d85-e9ec-4a5c-a7a8-7b911565ca0d"
      },
      "outputs": [
        {
          "data": {
            "text/plain": [
              "[<matplotlib.lines.Line2D at 0x7f8c1fccf710>]"
            ]
          },
          "execution_count": 29,
          "metadata": {},
          "output_type": "execute_result"
        },
        {
          "data": {
            "image/png": "[encoded data removed]",
            "text/plain": [
              "<Figure size 432x288 with 1 Axes>"
            ]
          },
          "metadata": {
            "needs_background": "light"
          },
          "output_type": "display_data"
        }
      ],
      "source": [
        "#Configuracion del Grafico\n",
        "import matplotlib.pyplot as plt\n",
        "plt.xlabel(\"# Epoca\")\n",
        "plt.ylabel(\"Magnitud Perdida\")\n",
        "plt.plot(historial.history[\"loss\"])"
      ]
    },
    {
      "cell_type": "code",
      "execution_count": 35,
      "metadata": {
        "colab": {
          "base_uri": "https://localhost:8080/"
        },
        "id": "oFZ5YfMMmKlM",
        "outputId": "844270a5-43e9-46a6-a155-8fbc5273314a"
      },
      "outputs": [
        {
          "name": "stdout",
          "output_type": "stream",
          "text": [
            "Hagamos una prediccion!\n",
            "El resultado es [[31.955177]] Fahrenheit\n"
          ]
        }
      ],
      "source": [
        "#Resutados de la IA\n",
        "print(\"Hagamos una prediccion!\")\n",
        "resultado = modelo.predict([0])\n",
        "print(f\"El resultado es {str(resultado)} Fahrenheit\")"
      ]
    },
    {
      "cell_type": "code",
      "execution_count": 34,
      "metadata": {
        "colab": {
          "base_uri": "https://localhost:8080/"
        },
        "id": "klnCrSxxmt8s",
        "outputId": "d824735f-ca28-4ba9-fedd-51c277a1a0da"
      },
      "outputs": [
        {
          "name": "stdout",
          "output_type": "stream",
          "text": [
            "Variables internas del modelo\n",
            "[array([[ 0.21944572, -0.6565165 ,  0.12448149]], dtype=float32), array([ 4.751067 , -5.809075 ,  4.5800786], dtype=float32)]\n",
            "[array([[-0.822031 ],\n",
            "       [ 2.1545892],\n",
            "       [-0.788438 ]], dtype=float32), array([-5.6935425], dtype=float32)]\n",
            "[array([[-1.061883]], dtype=float32), array([4.63681], dtype=float32)]\n"
          ]
        }
      ],
      "source": [
        "#Variables Internas\n",
        "print(\"Variables internas del modelo\")\n",
        "print(Hidden.get_weights())\n",
        "print(hidden1.get_weights())\n",
        "print(salida.get_weights())"
      ]
    }
  ],
  "metadata": {
    "colab": {
      "collapsed_sections": [],
      "name": "CelsiusToFahrenheit-IA.ipynb",
      "provenance": []
    },
    "kernelspec": {
      "display_name": "Python 3",
      "name": "python3"
    },
    "language_info": {
      "name": "python",
      "version": "3.9.6"
    }
  },
  "nbformat": 4,
  "nbformat_minor": 0
}
